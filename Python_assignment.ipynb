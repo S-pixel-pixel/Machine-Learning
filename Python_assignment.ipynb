{
 "cells": [
  {
   "cell_type": "code",
   "execution_count": 2,
   "id": "43cace86-17f6-4a23-8133-d2fce8e76002",
   "metadata": {},
   "outputs": [
    {
     "name": "stdin",
     "output_type": "stream",
     "text": [
      "Enter a number:  34\n"
     ]
    },
    {
     "name": "stdout",
     "output_type": "stream",
     "text": [
      "Not a prime number\n"
     ]
    }
   ],
   "source": [
    "\"\"\"Write a Python program that checks whether a given number is prime or not. A prime number is a natural number greater than 1 \n",
    "that has no positive divisors other than 1 and itself.\"\"\"\n",
    "def Isprime(x):\n",
    "    isPrime = True\n",
    "    for i in range(2,n):\n",
    "        if(n%i==0):\n",
    "            isPrime = False\n",
    "            break\n",
    "    if isPrime:\n",
    "        print(\"Is a prime number\")\n",
    "    else:\n",
    "        print(\"Not a prime number\")\n",
    "n = int(input(\"Enter a number: \"))\n",
    "Isprime(n)"
   ]
  },
  {
   "cell_type": "code",
   "execution_count": 1,
   "id": "6cc4c745-5f6d-46be-b568-98fcd12061d5",
   "metadata": {},
   "outputs": [
    {
     "name": "stdout",
     "output_type": "stream",
     "text": [
      "The numbers are 11 and 1\n"
     ]
    },
    {
     "name": "stdin",
     "output_type": "stream",
     "text": [
      "Enter what you think is the product of the two numbers: 13\n"
     ]
    },
    {
     "name": "stdout",
     "output_type": "stream",
     "text": [
      "Oops, you got the wrong answer!! The correct answer was 11\n"
     ]
    }
   ],
   "source": [
    "'''Develop a Python program that generates two random numbers and asks the user to enter the product of these numbers. \n",
    "The program should then check if the user's answer is correct and display an appropriate message.'''\n",
    "import random\n",
    "a = random.randint(1,21)\n",
    "b = random.randint(1,21)\n",
    "print(\"The numbers are\",a,\"and\",b)\n",
    "c = a*b\n",
    "user_input = int(input(\"Enter what you think is the product of the two numbers:\"))\n",
    "if(c==user_input):\n",
    "    print(\"Congrats on correctly finding the product of the numbers!!!\")\n",
    "else:\n",
    "    print(\"Oops, you got the wrong answer!! The correct answer was\",c)"
   ]
  },
  {
   "cell_type": "code",
   "execution_count": 3,
   "id": "48f51b55-e395-4b51-a78f-cd0581026ef0",
   "metadata": {},
   "outputs": [
    {
     "name": "stdout",
     "output_type": "stream",
     "text": [
      "This code prints the squares of all the even numbers in the range 100 to 200\n",
      "The square of 100 is 10000\n",
      "The square of 102 is 10404\n",
      "The square of 104 is 10816\n",
      "The square of 106 is 11236\n",
      "The square of 108 is 11664\n",
      "The square of 110 is 12100\n",
      "The square of 112 is 12544\n",
      "The square of 114 is 12996\n",
      "The square of 116 is 13456\n",
      "The square of 118 is 13924\n",
      "The square of 120 is 14400\n",
      "The square of 122 is 14884\n",
      "The square of 124 is 15376\n",
      "The square of 126 is 15876\n",
      "The square of 128 is 16384\n",
      "The square of 130 is 16900\n",
      "The square of 132 is 17424\n",
      "The square of 134 is 17956\n",
      "The square of 136 is 18496\n",
      "The square of 138 is 19044\n",
      "The square of 140 is 19600\n",
      "The square of 142 is 20164\n",
      "The square of 144 is 20736\n",
      "The square of 146 is 21316\n",
      "The square of 148 is 21904\n",
      "The square of 150 is 22500\n",
      "The square of 152 is 23104\n",
      "The square of 154 is 23716\n",
      "The square of 156 is 24336\n",
      "The square of 158 is 24964\n",
      "The square of 160 is 25600\n",
      "The square of 162 is 26244\n",
      "The square of 164 is 26896\n",
      "The square of 166 is 27556\n",
      "The square of 168 is 28224\n",
      "The square of 170 is 28900\n",
      "The square of 172 is 29584\n",
      "The square of 174 is 30276\n",
      "The square of 176 is 30976\n",
      "The square of 178 is 31684\n",
      "The square of 180 is 32400\n",
      "The square of 182 is 33124\n",
      "The square of 184 is 33856\n",
      "The square of 186 is 34596\n",
      "The square of 188 is 35344\n",
      "The square of 190 is 36100\n",
      "The square of 192 is 36864\n",
      "The square of 194 is 37636\n",
      "The square of 196 is 38416\n",
      "The square of 198 is 39204\n",
      "The square of 200 is 40000\n"
     ]
    }
   ],
   "source": [
    "'''Create a Python script that prints the squares of all even or odd numbers within the range of 100 to 200. \n",
    "Choose either even or odd numbers and document your choice in the code.'''\n",
    "print(\"This code prints the squares of all the even numbers in the range 100 to 200\")\n",
    "for i in range(100,201,2):\n",
    "    print(f\"The square of {i} is {i*i}\")"
   ]
  },
  {
   "cell_type": "code",
   "execution_count": 9,
   "id": "00c97b6e-52a4-43e5-b74b-a4ba92077b9c",
   "metadata": {},
   "outputs": [
    {
     "name": "stdout",
     "output_type": "stream",
     "text": [
      "apple : 3\n",
      "mango : 3\n",
      "orange : 2\n",
      "guava : 1\n"
     ]
    }
   ],
   "source": [
    "'''Write a program to count the number of words in a given text.\n",
    "example:\n",
    "input_text = \"This is a sample text. This text will be used to demonstrate the word counter.\"\n",
    "Expected output:\n",
    "'This': 2 \n",
    "'is': 1\n",
    "'a': 1\n",
    "'sample': 1\n",
    "'text.': 1\n",
    "'''\n",
    "wordss = []\n",
    "words = \"apple mango apple orange orange apple guava mango mango\"\n",
    "words = words.split()\n",
    "for i in words:\n",
    "    if i not in wordss:\n",
    "        wordss.append(i)\n",
    "for i in range(0,len(wordss)):\n",
    "    print(wordss[i],\":\",words.count(wordss[i]))"
   ]
  },
  {
   "cell_type": "code",
   "execution_count": 12,
   "id": "698eb214-41aa-443f-bf56-e53ce79c96dd",
   "metadata": {},
   "outputs": [
    {
     "ename": "SyntaxError",
     "evalue": "expected ':' (346832815.py, line 7)",
     "output_type": "error",
     "traceback": [
      "\u001b[1;36m  Cell \u001b[1;32mIn[12], line 7\u001b[1;36m\u001b[0m\n\u001b[1;33m    if(sentence[i] != sentence[n-1-i])\u001b[0m\n\u001b[1;37m                                      ^\u001b[0m\n\u001b[1;31mSyntaxError\u001b[0m\u001b[1;31m:\u001b[0m expected ':'\n"
     ]
    }
   ],
   "source": [
    "'''Write a Python function called is_palindrome that takes a string as input and returns True if the string is a palindrome, and False otherwise. \n",
    "A palindrome is a word, phrase, number, or other sequence of characters that reads the same forward and backward, ignoring spaces, \n",
    "punctuation, and capitalization'''\n",
    "def is_palindrome(sentence):\n",
    "    n = len(sentence)\n",
    "    for i in range(0,n//2):\n",
    "        if(sentence[i] != sentence[n-1-i]):\n",
    "            return False\n",
    "    return True\n",
    "dorm = str(input())\n",
    "is_palindrome(dorm)\n"
   ]
  },
  {
   "cell_type": "code",
   "execution_count": null,
   "id": "5d1b0296-7bee-4bc7-a853-7da748da480c",
   "metadata": {},
   "outputs": [],
   "source": []
  }
 ],
 "metadata": {
  "kernelspec": {
   "display_name": "Python 3 (ipykernel)",
   "language": "python",
   "name": "python3"
  },
  "language_info": {
   "codemirror_mode": {
    "name": "ipython",
    "version": 3
   },
   "file_extension": ".py",
   "mimetype": "text/x-python",
   "name": "python",
   "nbconvert_exporter": "python",
   "pygments_lexer": "ipython3",
   "version": "3.12.7"
  }
 },
 "nbformat": 4,
 "nbformat_minor": 5
}
