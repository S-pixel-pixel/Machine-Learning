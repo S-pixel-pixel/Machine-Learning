{
 "cells": [
  {
   "cell_type": "code",
   "execution_count": null,
   "id": "a5888f18-e73e-4c32-9a90-b6ff5703bbda",
   "metadata": {},
   "outputs": [],
   "source": [
    "'''\n",
    "Data\n",
    "A total of 15 print-heads were randomly selected and tested until failure. The durability of each print-head (in millions of characters) was recorded \n",
    "as follows:\n",
    "1.13, 1.55, 1.43, 0.92, 1.25, 1.36, 1.32, 0.85, 1.07, 1.48, 1.20, 1.33, 1.18, 1.22, 1.29\n",
    "Assignment Tasks\n",
    "a. Build 99% Confidence Interval Using Sample Standard Deviation\n",
    "Assuming the sample is representative of the population, construct a 99% confidence interval for the mean number of characters printed before the \n",
    "print-head fails using the sample standard deviation. Explain the steps you take and the rationale behind using the t-distribution for this task.\n",
    "b. Build 99% Confidence Interval Using Known Population Standard Deviation\n",
    "If it were known that the population standard deviation is 0.2 million characters, construct a 99% confidence interval for the mean number of characters \n",
    "printed before failure.\n",
    "'''"
   ]
  },
  {
   "cell_type": "code",
   "execution_count": 3,
   "id": "f99ab3c9-58cb-4fc8-9b20-d3a416aa3981",
   "metadata": {},
   "outputs": [],
   "source": [
    "import numpy as np\n",
    "from scipy.stats import t,norm"
   ]
  },
  {
   "cell_type": "code",
   "execution_count": 4,
   "id": "30c9cc6e-5795-4581-929b-99713106801d",
   "metadata": {},
   "outputs": [],
   "source": [
    "#Sample data\n",
    "print_head = [1.13, 1.55, 1.43, 0.92, 1.25, 1.36, 1.32, 0.85, 1.07, 1.48, 1.20, 1.33, 1.18, 1.22, 1.29]"
   ]
  },
  {
   "cell_type": "code",
   "execution_count": 5,
   "id": "e8496d4a-3376-4886-8e74-e107ee79d32c",
   "metadata": {},
   "outputs": [],
   "source": [
    "#Convert to numpy array\n",
    "data = np.array(print_head)\n",
    "n = len(data)\n",
    "ph_mean = data.mean()\n",
    "ph_std = data.std()"
   ]
  },
  {
   "cell_type": "code",
   "execution_count": 9,
   "id": "05cfd2dd-a553-49d5-bf2f-491819f028c1",
   "metadata": {},
   "outputs": [
    {
     "name": "stdout",
     "output_type": "stream",
     "text": [
      "I am 99% confident that the population mean (using sample std) lies within: [1.1  1.38]\n"
     ]
    }
   ],
   "source": [
    "#a) Using t-distribution(unknown population std)\n",
    "#alpha = 0.01\n",
    "t_ci = t.interval(0.99,df = n-1,loc = ph_mean,scale = ph_std/np.sqrt(n))\n",
    "print(\"I am 99% confident that the population mean (using sample std) lies within:\", np.round(t_ci,2))"
   ]
  },
  {
   "cell_type": "code",
   "execution_count": 10,
   "id": "82d8fd5b-9585-4e5e-b7c1-5b10805dfe3b",
   "metadata": {},
   "outputs": [
    {
     "name": "stdout",
     "output_type": "stream",
     "text": [
      "I am 99% confident that the population mean (using population std) lies within: [1.11 1.37]\n"
     ]
    }
   ],
   "source": [
    "#a) Using z-distribution(known population std = 0.2)\n",
    "#alpha = 0.01\n",
    "pop_std = 0.2\n",
    "z_ci = norm.interval(0.99,loc = ph_mean,scale = pop_std/np.sqrt(n))\n",
    "print(\"I am 99% confident that the population mean (using population std) lies within:\", np.round(z_ci,2))"
   ]
  }
 ],
 "metadata": {
  "kernelspec": {
   "display_name": "Python 3 (ipykernel)",
   "language": "python",
   "name": "python3"
  },
  "language_info": {
   "codemirror_mode": {
    "name": "ipython",
    "version": 3
   },
   "file_extension": ".py",
   "mimetype": "text/x-python",
   "name": "python",
   "nbconvert_exporter": "python",
   "pygments_lexer": "ipython3",
   "version": "3.12.7"
  }
 },
 "nbformat": 4,
 "nbformat_minor": 5
}
